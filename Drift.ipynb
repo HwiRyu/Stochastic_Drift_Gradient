import numpy as np
import matplotlib.pyplot as plt
from mpl_toolkits.mplot3d import Axes3D
import sys
from collections import deque
from IPython.display import display, clear_output
import time

def print_over(text):
    sys.stdout.write('\r' + text)
    sys.stdout.flush()
    
def generate_formatted_string(number):
    # 입력된 숫자를 정수와 소수 부분으로 분리합니다.
 
    number = f"{number:.14f}"

    int_part, decimal_part = str(number).split('.')
    decimal_part = decimal_part[:13]
    if len(int_part) > 3:
        format_string = 'OUT!OFVALUEPLEASE'
    # 정수 부분을 1000자리로 맞추기 위해 필요한 '0'의 개수를 계산합니다.
    else:
        num_zeros_needed = max(0, 3 - len(int_part))
        int_part = int_part[-3:]
        # 1000자리의 '0'과 정수 부분, 소수 부분을 합쳐서 문자열을 생성합니다.
        format_string = '0' * num_zeros_needed + int_part + '.' + decimal_part.ljust(13, '0')

    return format_string

def format_list_of_numbers(number_list):
    formatted_strings = []
    for number in number_list:
        formatted_string = generate_formatted_string(number)
        formatted_strings.append(formatted_string)
    return formatted_strings


ge = 0.105

def function(X,Y):
    Z = -np.cos(X) - np.cos(Y)- np.cos(X*Y) + ge * (X*X + Y*Y)
    return Z

def dervir_x(X,Y):
    return np.sin(X) +2* ge * (X) + np.sin(X*Y) * Y
    # return 
def dervir_y(X,Y):
    # return 2* ge*(Y) +  np.sin(X*Y) * X
    return 2* ge*(Y) +  np.sin(X*Y) * X + np.sin(Y)

Randoms = 1
def iter(dual):
    X, Y = dual
    if Randoms == 1:
        lr = np.random.normal(0.01,0.05)
        lr_b = np.random.normal(0,0.01)
        X -= lr * (dervir_x(X,Y) + lr_b)
        lry = np.random.normal(0.01,0.05)
        lr_by = np.random.normal(0, 0.01)
        Y -= lry * (dervir_y(X,Y) + lr_by)
    else:
        lr = 0.01
        X -= lr * (dervir_x(X,Y))
        Y -= lr * (dervir_y(X,Y))

    return X,Y

def iter_adagrad(dual, t, epsilon=1e-7):
    X, Y = dual
    G_x = 0  # Initialize sum of squares of past gradients for X
    G_y = 0  # Initialize sum of squares of past gradients for Y
    lr = 0.001  # Initial learning rate (you can adjust this)

    dX = dervir_x(X, Y)
    dY = dervir_y(X, Y)

    G_x += dX**2
    G_y += dY**2

    X -= lr * dX / (np.sqrt(G_x) + epsilon)
    Y -= lr * dY / (np.sqrt(G_y) + epsilon)

    return X, Y

def iter_with_momentum(dual, lr=0.001, momentum=0.9):
    X, Y = dual

    # 이전 그래디언트 업데이트를 저장하기 위한 변수 초기화
    prev_grad_x = 0
    prev_grad_y = 0

    # 현재 그래디언트 계산
    grad_x = dervir_x(X, Y)
    grad_y = dervir_y(X, Y)

    # 모멘텀 업데이트 수식을 사용하여 X, Y 업데이트
    prev_grad_x = momentum * prev_grad_x + lr * grad_x
    prev_grad_y = momentum * prev_grad_y + lr * grad_y

    X -= prev_grad_x
    Y -= prev_grad_y

    return X, Y

# Create a fixed-length deque of size 1000 to store the data points
data_points = deque(maxlen=100)
X = np.linspace(-20, 20, 200)
Y = np.linspace(-20, 20, 200)
X, Y = np.meshgrid(X, Y)
Z = -np.cos(X) - np.cos(Y)- np.cos(X*Y) + ge * (X*X + Y*Y)

fig = plt.figure(figsize=(10, 8))
ax = fig.add_subplot(111, projection='3d')

surf = ax.plot_surface(X, Y, Z, cmap='viridis', alpha=0.7)

scatter = ax.scatter([], [], [], c='r', marker='o', s=10,zorder=-1)
display(fig)
C = iter((15,20))    
for i in range(100000000):
    C = iter(C)
    X, Y = C
    Z = function(X,Y)

    data_points.append((X, Y, Z))

    # Update the 3D plot with the new data points
    x_values = [x for x, y, z in data_points]
    y_values = [y for x, y, z in data_points]
    z_values = [z for x, y, z in data_points]
    D = dervir_x(X,Y), dervir_y(X,Y)
    Z = function(X,Y)
    X = generate_formatted_string(X)
    Y = generate_formatted_string(Y)
    Z = generate_formatted_string(Z)
    I = format_list_of_numbers(D)
    print_over(f"{X, Y, Z, I , 'iter:',i}")

    # Clear the previous output and display the updated 3D plot
    if i % 100 == 0:
                    
        clear_output(wait=True)
        display(fig)
        scatter._offsets3d = (x_values, y_values, z_values)
    if i % 1000 == 0:
        a = np.random.choice(np.arange(30,40))
        b = np.random.choice(np.arange(-40,-35))
        C = iter((a,b))    

